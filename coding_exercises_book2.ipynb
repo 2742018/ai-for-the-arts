{
 "cells": [
  {
   "cell_type": "markdown",
   "id": "faaa7f67",
   "metadata": {},
   "source": [
    "## Part 2.4: Understanding a Program: Parsing and Reading\n",
    "Exploring how to parse user input and web data using Python."
   ]
  },
  {
   "cell_type": "code",
   "execution_count": 4,
   "id": "31d70487",
   "metadata": {},
   "outputs": [
    {
     "name": "stdout",
     "output_type": "stream",
     "text": [
      "Shall we hunt down an old website?\n",
      "Found this copy: http://web.archive.org/web/20140614220359/http://www.cnn.com/\n",
      "It should appear in your browser.\n"
     ]
    }
   ],
   "source": [
    "import webbrowser\n",
    "import requests\n",
    "\n",
    "print(\"Shall we hunt down an old website?\")\n",
    "site = input(\"Type a website URL: \")\n",
    "era = input(\"Type year, month, and date, e.g., 20150613: \")\n",
    "url = f\"http://archive.org/wayback/available?url={site}&timestamp={era}\"\n",
    "\n",
    "response = requests.get(url)\n",
    "data = response.json()\n",
    "\n",
    "try:\n",
    "    old_site = data[\"archived_snapshots\"][\"closest\"][\"url\"]\n",
    "    print(\"Found this copy:\", old_site)\n",
    "    print(\"It should appear in your browser.\")\n",
    "    webbrowser.open(old_site)\n",
    "except:\n",
    "    print(\"Sorry, could not find the site.\")\n"
   ]
  },
  {
   "cell_type": "markdown",
   "id": "217cf1e5",
   "metadata": {},
   "source": [
    "### Reflection:\n",
    "- I learned how to combine user input with web requests to interact with an online API.\n",
    "- Challenges I faced: Understanding the JSON response structure and handling cases where no archive snapshot is found.\n",
    "- Copilot follow-up suggestions: Using `.get()` method to safely access JSON keys and avoid potential exceptions.\n",
    "- Do they work?: Yes, the program successfully retrieved archived websites and opened them in my browser.\n",
    "- Peer discussion: My peer suggested expanding the program to check multiple dates automatically, which could enhance its functionality.\n"
   ]
  }
 ],
 "metadata": {
  "kernelspec": {
   "display_name": "Python 3",
   "language": "python",
   "name": "python3"
  },
  "language_info": {
   "codemirror_mode": {
    "name": "ipython",
    "version": 3
   },
   "file_extension": ".py",
   "mimetype": "text/x-python",
   "name": "python",
   "nbconvert_exporter": "python",
   "pygments_lexer": "ipython3",
   "version": "3.12.1"
  }
 },
 "nbformat": 4,
 "nbformat_minor": 5
}
