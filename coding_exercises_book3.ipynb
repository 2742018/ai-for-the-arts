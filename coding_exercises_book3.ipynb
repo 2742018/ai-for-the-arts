{
 "cells": [
  {
   "cell_type": "markdown",
   "id": "f0f4d92c",
   "metadata": {},
   "source": [
    "## Part 2.5: Thinking about Media as Data\n",
    "\n",
    "Text, images, and audio are not just sensory experiences for humans but also data formats that computers can process. In this section, I explored how various types of media can be represented as numerical or structured data, enabling machine learning models and algorithms to interpret, analyse, and even generate media content.\n",
    "\n",
    "\n",
    "Text Data:\n",
    "- Text is converted into data through encoding systems like ASCII or Unicode.\n",
    "- Words and sentences are further processed into numerical formats using techniques like one-hot encoding, TF-IDF, or word embeddings (e.g., Word2Vec).\n",
    "- This enables natural language processing (NLP) tasks such as sentiment analysis, machine translation, and text generation.\n",
    "\n",
    "Image Data:\n",
    "- Images are stored as arrays of pixel values, where each pixel contains RGB (Red, Green, Blue) data.\n",
    "- These pixel values are numerical matrices that can be manipulated mathematically.\n",
    "- Techniques like convolutional neural networks (CNNs) are used to detect patterns and features in images.\n",
    "- Example: Adjusting brightness or filters directly manipulates the underlying pixel data.\n",
    "\n",
    "Audio Data:\n",
    "- Audio files are sequences of sound waves sampled at regular intervals.\n",
    "- Each sample represents amplitude (loudness) at a given time, turning sound into a series of numbers.\n",
    "- Techniques like Fourier Transform convert audio signals into frequency domain representations for further analysis.\n",
    "- This data format is used in applications such as speech recognition and music generation.\n",
    "\n",
    "Importance for AI:\n",
    "Understanding how media transforms into data is foundational for building AI systems. By representing media as data, we enable algorithms to:\n",
    "- Recognise patterns and classify content.\n",
    "- Generate new media outputs (e.g., AI-generated art or deepfake audio).\n",
    "- Enhance human-computer interaction through multimedia understanding.\n",
    "\n",
    "Reflection:\n",
    "In the past, I would viewed images, text, and audio simply as outputs for human consumption. Now, I understand them as data sources that machines can interpret and manipulate. Discussing with peers, I realised how image data is often preprocessed (e.g., normalised pixel values) before being used in models, and audio requires careful sampling rates to preserve quality. This knowledge will be crucial as I advance into more complex AI applications involving media content."
   ]
  },
  {
   "cell_type": "markdown",
   "id": "aadc8edb",
   "metadata": {},
   "source": [
    "# --- End of Part 2.5 --- "
   ]
  }
 ],
 "metadata": {
  "language_info": {
   "name": "python"
  }
 },
 "nbformat": 4,
 "nbformat_minor": 5
}
