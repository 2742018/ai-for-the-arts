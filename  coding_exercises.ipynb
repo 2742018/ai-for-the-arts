{
 "cells": [
  {
   "cell_type": "markdown",
   "id": "902df762",
   "metadata": {},
   "source": [
    "# Hello World Program\n",
    "The following code was created as my first attempt at\n",
    "programming in this course. It is meant to help me understand how to write and\n",
    "run code in GitHub Codespaces.\n",
    "\n",
    "This section prints a simple message to get started with Python."
   ]
  },
  {
   "cell_type": "code",
   "execution_count": 48,
   "id": "e5064cde",
   "metadata": {},
   "outputs": [
    {
     "name": "stdout",
     "output_type": "stream",
     "text": [
      "Hello, World!\n"
     ]
    }
   ],
   "source": [
    "print(\"Hello, World!\")"
   ]
  },
  {
   "cell_type": "markdown",
   "id": "d5d68982",
   "metadata": {},
   "source": [
    "## Copilot Prompt: Hello World\n",
    "In this section, I am using Microsoft Copilot to generate a simple Python program that prints \"Hello, World!\" to the screen. I will also include Copilot's explanation to understand how the code works.\n",
    "\n",
    "Prompt: Could you suggest a python code for ‘Hello, world!’to demonstrate the concept of printing to a complete beginner in programming? Please explain the code step-by-step highlighting any key aspects.\n",
    "\n",
    "The response by Copilot:\n",
    "\n",
    "Step-by-Step Explanation -\n",
    "\n",
    "1) print Function:\n",
    "The print function is used to display output on the screen.\n",
    "In Python, functions are predefined blocks of code that perform specific tasks.\n",
    "\n",
    "2) Parentheses ():\n",
    "The parentheses () are used to enclose the arguments of the function.\n",
    "Arguments are the values or variables that the function will use.\n",
    "\n",
    "3) Quotation Marks \"\":\n",
    "The quotation marks \"\" are used to define a string.\n",
    "A string is a sequence of characters, like words or sentences.\n",
    "\n",
    "4) String Argument:\n",
    "\"Hello, world!\" is the string argument passed to the print function.\n",
    "This tells the print function what to display.\n",
    "\n",
    "Key Aspects:\n",
    "\n",
    "1) Syntax: Python syntax is straightforward and easy to read. The print function is a basic example of how Python commands are structured.\n",
    "2) Indentation: Python uses indentation to define blocks of code, but for simple commands like print, indentation isn't necessary.\n",
    "3) Case Sensitivity: Python is case-sensitive, so print must be written in lowercase.\n",
    "\n",
    "Feel free to try running this code in a Python environment or an online compiler to see the output! If you have any questions or need further clarification, just let me know. "
   ]
  },
  {
   "cell_type": "code",
   "execution_count": 49,
   "id": "2441fb81",
   "metadata": {},
   "outputs": [
    {
     "name": "stdout",
     "output_type": "stream",
     "text": [
      "Hello, world!\n"
     ]
    }
   ],
   "source": [
    "print(\"Hello, world!\")"
   ]
  },
  {
   "cell_type": "markdown",
   "id": "da25c65c",
   "metadata": {},
   "source": [
    "## More Copilot prompts Tested: "
   ]
  },
  {
   "cell_type": "markdown",
   "id": "30f204ed",
   "metadata": {},
   "source": [
    "## Copilot Prompt: Explain functions in Python\n",
    "\n",
    "Prompt: Could you suggest a modification of the Python code for “Hello, world!” to demonstrate the concept of functions to a complete beginner in programming? Please explain the code step-by-step highlighting any key aspects.\n",
    "\n",
    "### Copilot Explanation:\n",
    "Copilot explained that functions help organize code into reusable blocks. The function `def greet():` defines a reusable function that prints \"Hello, World!\" when called.\n",
    "\n",
    "### Reflection:\n",
    "Functions are useful for organizing code that we want to reuse. I see that defining and calling functions makes code cleaner."
   ]
  },
  {
   "cell_type": "code",
   "execution_count": 50,
   "id": "770dda79",
   "metadata": {},
   "outputs": [
    {
     "name": "stdout",
     "output_type": "stream",
     "text": [
      "Hello, World!\n"
     ]
    }
   ],
   "source": [
    "def greet():\n",
    "    print(\"Hello, World!\")\n",
    "\n",
    "greet()"
   ]
  },
  {
   "cell_type": "markdown",
   "id": "524e6296",
   "metadata": {},
   "source": [
    "## Copilot Prompt: Explain if-else statements in Python\n",
    "\n",
    "Prompt: Could you suggest a modification of the Python code for “Hello, world!” to demonstrate the concept of if, elif, and else statements to a complete beginner in programming? Please explain the code step-by-step highlighting any key aspects.\n",
    "\n",
    "### Copilot Explanation:\n",
    "Copilot showed how to use `if-else` statements to control program flow. If a condition is true, one message is printed; otherwise, a different message is printed.\n",
    "\n",
    "### Reflection:\n",
    "Conditional statements help make decisions in programs. I understand now how the program can respond differently based on conditions."
   ]
  },
  {
   "cell_type": "code",
   "execution_count": 51,
   "id": "0c208b49",
   "metadata": {},
   "outputs": [
    {
     "name": "stdout",
     "output_type": "stream",
     "text": [
      "Hello, Python World!\n"
     ]
    }
   ],
   "source": [
    "language = \"Python\"\n",
    "\n",
    "if language == \"Python\":\n",
    "    print(\"Hello, Python World!\")\n",
    "else:\n",
    "    print(\"Hello, World!\")"
   ]
  },
  {
   "cell_type": "markdown",
   "id": "9d262b28",
   "metadata": {},
   "source": [
    "## Copilot Prompt: Explain lists in Python\n",
    "\n",
    "Prompt: Could you suggest a modification of the Python code for “Hello, world!” to demonstrate the concept of lists to a complete beginner in programming? Please explain the code step-by-step highlighting any key aspects.\n",
    "\n",
    "### Copilot Explanation:\n",
    "Copilot introduced lists as collections of items. Here, a list of greetings is created, and each greeting is printed using a loop.\n",
    "\n",
    "### Reflection:\n",
    "Lists help store multiple values together. This makes it easy to manage and print multiple greetings."
   ]
  },
  {
   "cell_type": "code",
   "execution_count": 52,
   "id": "55c28814",
   "metadata": {},
   "outputs": [
    {
     "name": "stdout",
     "output_type": "stream",
     "text": [
      "Hello, World!\n",
      "Hi there!\n",
      "Greetings!\n"
     ]
    }
   ],
   "source": [
    "greetings = [\"Hello, World!\", \"Hi there!\", \"Greetings!\"]\n",
    "\n",
    "for greeting in greetings:\n",
    "    print(greeting)"
   ]
  },
  {
   "cell_type": "markdown",
   "id": "3c33eb14",
   "metadata": {},
   "source": [
    "## Copilot Prompt: Explain loops in Python\n",
    "\n",
    "Prompt: Could you suggest a modification of the Python code for “Hello, world!” to demonstrate the concept of loops to a complete beginner in programming? Please explain the code step-by-step highlighting any key aspects.\n",
    "\n",
    "### Copilot Explanation:\n",
    "Copilot explained that loops let us repeat actions. Here, a `for` loop prints \"Hello, World!\" multiple times.\n",
    "\n",
    "### Reflection:\n",
    "Loops automate repetition. Instead of writing `print` many times, the loop does it efficiently.\n"
   ]
  },
  {
   "cell_type": "code",
   "execution_count": 53,
   "id": "59b8d0e0",
   "metadata": {},
   "outputs": [
    {
     "name": "stdout",
     "output_type": "stream",
     "text": [
      "Hello, World!\n",
      "Hello, World!\n",
      "Hello, World!\n",
      "Hello, World!\n",
      "Hello, World!\n"
     ]
    }
   ],
   "source": [
    "for i in range(5):\n",
    "    print(\"Hello, World!\")\n"
   ]
  }
 ],
 "metadata": {
  "kernelspec": {
   "display_name": "Python 3",
   "language": "python",
   "name": "python3"
  },
  "language_info": {
   "codemirror_mode": {
    "name": "ipython",
    "version": 3
   },
   "file_extension": ".py",
   "mimetype": "text/x-python",
   "name": "python",
   "nbconvert_exporter": "python",
   "pygments_lexer": "ipython3",
   "version": "3.12.1"
  }
 },
 "nbformat": 4,
 "nbformat_minor": 5
}
