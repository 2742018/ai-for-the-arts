{
 "cells": [
  {
   "cell_type": "markdown",
   "id": "902df762",
   "metadata": {},
   "source": [
    "# Hello World Program\n",
    "The following code was created as my first attempt at\n",
    "programming in this course. It is meant to help me understand how to write and\n",
    "run code in GitHub Codespaces.\n",
    "\n",
    "This section prints a simple message to get started with Python."
   ]
  },
  {
   "cell_type": "code",
   "execution_count": 1,
   "id": "e5064cde",
   "metadata": {},
   "outputs": [
    {
     "name": "stdout",
     "output_type": "stream",
     "text": [
      "Hello, World!\n"
     ]
    }
   ],
   "source": [
    "print(\"Hello, World!\")"
   ]
  }
 ],
 "metadata": {
  "kernelspec": {
   "display_name": "Python 3",
   "language": "python",
   "name": "python3"
  },
  "language_info": {
   "codemirror_mode": {
    "name": "ipython",
    "version": 3
   },
   "file_extension": ".py",
   "mimetype": "text/x-python",
   "name": "python",
   "nbconvert_exporter": "python",
   "pygments_lexer": "ipython3",
   "version": "3.12.1"
  }
 },
 "nbformat": 4,
 "nbformat_minor": 5
}
