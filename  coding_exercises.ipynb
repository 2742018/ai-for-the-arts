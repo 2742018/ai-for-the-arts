{
 "cells": [
  {
   "cell_type": "markdown",
   "id": "902df762",
   "metadata": {},
   "source": [
    "# Coding Exercises for AI for the Arts and Humanities Portfolio\n",
    "\n",
    "## Part 1: Getting Started\n"
   ]
  },
  {
   "cell_type": "markdown",
   "id": "5bdc12d4",
   "metadata": {},
   "source": [
    "## Hello World Program\n",
    "The following code was created as my first attempt at\n",
    "programming in this course. It is meant to help me understand how to write and\n",
    "run code in GitHub Codespaces.\n",
    "\n",
    "This section prints a simple message to get started with Python."
   ]
  },
  {
   "cell_type": "code",
   "execution_count": 190,
   "id": "e5064cde",
   "metadata": {},
   "outputs": [
    {
     "name": "stdout",
     "output_type": "stream",
     "text": [
      "Hello, World!\n"
     ]
    }
   ],
   "source": [
    "print(\"Hello, World!\")"
   ]
  },
  {
   "cell_type": "markdown",
   "id": "d5d68982",
   "metadata": {},
   "source": [
    "## Copilot Prompt: Hello World\n",
    "In this section, I am using Microsoft Copilot to generate a simple Python program that prints \"Hello, World!\" to the screen. I will also include Copilot's explanation to understand how the code works.\n",
    "\n",
    "Prompt: Could you suggest a python code for ‘Hello, world!’to demonstrate the concept of printing to a complete beginner in programming? Please explain the code step-by-step highlighting any key aspects.\n",
    "\n",
    "The response by Copilot:\n",
    "\n",
    "Step-by-Step Explanation -\n",
    "\n",
    "1) print Function:\n",
    "The print function is used to display output on the screen.\n",
    "In Python, functions are predefined blocks of code that perform specific tasks.\n",
    "\n",
    "2) Parentheses ():\n",
    "The parentheses () are used to enclose the arguments of the function.\n",
    "Arguments are the values or variables that the function will use.\n",
    "\n",
    "3) Quotation Marks \"\":\n",
    "The quotation marks \"\" are used to define a string.\n",
    "A string is a sequence of characters, like words or sentences.\n",
    "\n",
    "4) String Argument:\n",
    "\"Hello, world!\" is the string argument passed to the print function.\n",
    "This tells the print function what to display.\n",
    "\n",
    "Key Aspects:\n",
    "\n",
    "1) Syntax: Python syntax is straightforward and easy to read. The print function is a basic example of how Python commands are structured.\n",
    "2) Indentation: Python uses indentation to define blocks of code, but for simple commands like print, indentation isn't necessary.\n",
    "3) Case Sensitivity: Python is case-sensitive, so print must be written in lowercase.\n",
    "\n",
    "Feel free to try running this code in a Python environment or an online compiler to see the output! If you have any questions or need further clarification, just let me know. "
   ]
  },
  {
   "cell_type": "code",
   "execution_count": 191,
   "id": "2441fb81",
   "metadata": {},
   "outputs": [
    {
     "name": "stdout",
     "output_type": "stream",
     "text": [
      "Hello, world!\n"
     ]
    }
   ],
   "source": [
    "print(\"Hello, world!\")"
   ]
  },
  {
   "cell_type": "markdown",
   "id": "da25c65c",
   "metadata": {},
   "source": [
    "## More Copilot prompts Tested: "
   ]
  },
  {
   "cell_type": "markdown",
   "id": "30f204ed",
   "metadata": {},
   "source": [
    "## Copilot Prompt: Explain functions in Python\n",
    "\n",
    "Prompt: Could you suggest a modification of the Python code for “Hello, world!” to demonstrate the concept of functions to a complete beginner in programming? Please explain the code step-by-step highlighting any key aspects.\n",
    "\n",
    "### Copilot Explanation:\n",
    "Copilot explained that functions help organize code into reusable blocks. The function `def greet():` defines a reusable function that prints \"Hello, World!\" when called.\n",
    "\n",
    "### Reflection:\n",
    "Functions are useful for organizing code that we want to reuse. I see that defining and calling functions makes code cleaner."
   ]
  },
  {
   "cell_type": "code",
   "execution_count": 192,
   "id": "770dda79",
   "metadata": {},
   "outputs": [
    {
     "name": "stdout",
     "output_type": "stream",
     "text": [
      "Hello, World!\n"
     ]
    }
   ],
   "source": [
    "def greet():\n",
    "    print(\"Hello, World!\")\n",
    "\n",
    "greet()"
   ]
  },
  {
   "cell_type": "markdown",
   "id": "524e6296",
   "metadata": {},
   "source": [
    "## Copilot Prompt: Explain if-else statements in Python\n",
    "\n",
    "Prompt: Could you suggest a modification of the Python code for “Hello, world!” to demonstrate the concept of if, elif, and else statements to a complete beginner in programming? Please explain the code step-by-step highlighting any key aspects.\n",
    "\n",
    "### Copilot Explanation:\n",
    "Copilot showed how to use `if-else` statements to control program flow. If a condition is true, one message is printed; otherwise, a different message is printed.\n",
    "\n",
    "### Reflection:\n",
    "Conditional statements help make decisions in programs. I understand now how the program can respond differently based on conditions."
   ]
  },
  {
   "cell_type": "code",
   "execution_count": 193,
   "id": "0c208b49",
   "metadata": {},
   "outputs": [
    {
     "name": "stdout",
     "output_type": "stream",
     "text": [
      "Hello, Python World!\n"
     ]
    }
   ],
   "source": [
    "language = \"Python\"\n",
    "\n",
    "if language == \"Python\":\n",
    "    print(\"Hello, Python World!\")\n",
    "else:\n",
    "    print(\"Hello, World!\")"
   ]
  },
  {
   "cell_type": "markdown",
   "id": "9d262b28",
   "metadata": {},
   "source": [
    "## Copilot Prompt: Explain lists in Python\n",
    "\n",
    "Prompt: Could you suggest a modification of the Python code for “Hello, world!” to demonstrate the concept of lists to a complete beginner in programming? Please explain the code step-by-step highlighting any key aspects.\n",
    "\n",
    "### Copilot Explanation:\n",
    "Copilot introduced lists as collections of items. Here, a list of greetings is created, and each greeting is printed using a loop.\n",
    "\n",
    "### Reflection:\n",
    "Lists help store multiple values together. This makes it easy to manage and print multiple greetings."
   ]
  },
  {
   "cell_type": "code",
   "execution_count": 194,
   "id": "55c28814",
   "metadata": {},
   "outputs": [
    {
     "name": "stdout",
     "output_type": "stream",
     "text": [
      "Hello, World!\n",
      "Hi there!\n",
      "Greetings!\n"
     ]
    }
   ],
   "source": [
    "greetings = [\"Hello, World!\", \"Hi there!\", \"Greetings!\"]\n",
    "\n",
    "for greeting in greetings:\n",
    "    print(greeting)"
   ]
  },
  {
   "cell_type": "markdown",
   "id": "3c33eb14",
   "metadata": {},
   "source": [
    "## Copilot Prompt: Explain loops in Python\n",
    "\n",
    "Prompt: Could you suggest a modification of the Python code for “Hello, world!” to demonstrate the concept of loops to a complete beginner in programming? Please explain the code step-by-step highlighting any key aspects.\n",
    "\n",
    "### Copilot Explanation:\n",
    "Copilot explained that loops let us repeat actions. Here, a `for` loop prints \"Hello, World!\" multiple times.\n",
    "\n",
    "### Reflection:\n",
    "Loops automate repetition. Instead of writing `print` many times, the loop does it efficiently.\n"
   ]
  },
  {
   "cell_type": "code",
   "execution_count": 195,
   "id": "59b8d0e0",
   "metadata": {},
   "outputs": [
    {
     "name": "stdout",
     "output_type": "stream",
     "text": [
      "Hello, World!\n",
      "Hello, World!\n",
      "Hello, World!\n",
      "Hello, World!\n",
      "Hello, World!\n"
     ]
    }
   ],
   "source": [
    "for i in range(5):\n",
    "    print(\"Hello, World!\")\n"
   ]
  },
  {
   "cell_type": "markdown",
   "id": "f1ad8629",
   "metadata": {},
   "source": [
    "# --- End of Part 1 ---\n",
    "\n",
    "\n",
    "## Part 2: Understanding Code\n",
    "In this section, I explore fundamental Python concepts using Microsoft Copilot to assist me.\n"
   ]
  },
  {
   "cell_type": "markdown",
   "id": "4473a1a8",
   "metadata": {},
   "source": [
    "---\n",
    "\n",
    "## 1. Variables\n",
    "\n",
    "### Prompt:\n",
    "Could you suggest a modification of the Python code for “Hello, world!” to demonstrate the concept of variables to a complete beginner in programming? Please explain the code step-by-step highlighting any key aspects.\n",
    "\n",
    "### Copilot Explanation:\n",
    "Step-by-Step Explanation:\n",
    "\n",
    "1) Variable Declaration:\n",
    "- message = \"Hello, world!\"\n",
    "- Here, message is a variable. A variable is a name that can hold a value.\n",
    "- The = sign is used to assign the value \"Hello, world!\" to the variable message.\n",
    "\n",
    "2) String Assignment:\n",
    "- \"Hello, world!\" is a string value assigned to the variable message.\n",
    "- This means that message now holds the text \"Hello, world!\".\n",
    "\n",
    "3) Using the Variable:\n",
    "- print(message)\n",
    "- Instead of directly printing the string, we use the variable message as the argument for the print function.\n",
    "- This tells the print function to display the value stored in message.\n",
    "\n",
    "Key Aspects:\n",
    "1) Variables: Variables are used to store data that can be reused and manipulated throughout the program. They make the code more flexible and easier to manage.\n",
    "2) Assignment Operator =: The = operator assigns the value on the right to the variable on the left.\n",
    "3) Using Variables in Functions: By using variables in functions like print, you can easily change the output by modifying the variable's value without changing the function call.\n",
    "\n",
    "### Code:"
   ]
  },
  {
   "cell_type": "code",
   "execution_count": 196,
   "id": "8fd5a000",
   "metadata": {},
   "outputs": [
    {
     "name": "stdout",
     "output_type": "stream",
     "text": [
      "Hello, world!\n"
     ]
    }
   ],
   "source": [
    "message = \"Hello, world!\"\n",
    "print(message)"
   ]
  },
  {
   "cell_type": "markdown",
   "id": "d9c54156",
   "metadata": {},
   "source": [
    "### Reflection:\n",
    "- What I learned: Variables provide a way to store data under a specific name, which enhances the readability and manageability of code.\n",
    "- Challenges I faced: Initially, distinguishing between variable declaration and assignment required careful attention.\n",
    "- Copilot follow-up suggestions: Experimenting with different data types assigned to variables, such as integers, strings, and floats.\n",
    "---\n",
    "\n",
    "## 2. Functions\n",
    "\n",
    "### Prompt:\n",
    "Could you suggest a modification of the Python code for “Hello, world!” to demonstrate the concept of functions to a complete beginner in programming? Please explain the code step-by-step highlighting any key aspects.\n",
    "\n",
    "### Copilot Explanation:\n",
    "\n",
    "Step-by-Step Explanation:\n",
    "\n",
    "1) Defining a Function:\n",
    "- def greet():\n",
    "- The def keyword is used to define a new function named greet.\n",
    "- The parentheses () indicate that this function does not take any arguments.\n",
    "- The colon : signifies the start of the function's code block.\n",
    "\n",
    "2) Function Code Block:\n",
    "- Inside the function, we have:"
   ]
  },
  {
   "cell_type": "code",
   "execution_count": 197,
   "id": "310ce839",
   "metadata": {},
   "outputs": [
    {
     "name": "stdout",
     "output_type": "stream",
     "text": [
      "Hello, world!\n"
     ]
    }
   ],
   "source": [
    "message = \"Hello, world!\"\n",
    "print(message)"
   ]
  },
  {
   "cell_type": "markdown",
   "id": "4700e5e5",
   "metadata": {},
   "source": [
    "- This code block is indented to show that it belongs to the greet function.\n",
    "- The variable message is assigned the string \"Hello, world!\".\n",
    "- The print function is used to display the value of message.\n",
    "\n",
    "3) Calling the Function:\n",
    "- greet()\n",
    "- This line calls the greet function, which executes the code inside the function's code block.\n",
    "- When the function is called, it prints \"Hello, world!\" to the screen.\n",
    "\n",
    "Key Aspects:\n",
    "- Functions: Functions are reusable blocks of code that perform specific tasks. They help organize code and make it more modular.\n",
    "- Function Definition: The def keyword is used to define a function, followed by the function name and parentheses.\n",
    "- Indentation: The code inside the function must be indented to indicate that it belongs to the function.\n",
    "- Function Call: To execute the code inside a function, you need to call the function by its name followed by parentheses.\n",
    "\n",
    "### Code:"
   ]
  },
  {
   "cell_type": "code",
   "execution_count": 198,
   "id": "239bc8f1",
   "metadata": {},
   "outputs": [
    {
     "name": "stdout",
     "output_type": "stream",
     "text": [
      "Hello, World!\n"
     ]
    }
   ],
   "source": [
    "def greet():\n",
    "    print(\"Hello, World!\")\n",
    "\n",
    "greet()\n"
   ]
  },
  {
   "cell_type": "markdown",
   "id": "7895d868",
   "metadata": {},
   "source": [
    "### Reflection:\n",
    "- What I learned: Functions promote modularity by encapsulating blocks of code, thereby enhancing code reusability and clarity.\n",
    "- Challenges I faced: Understanding the syntax for defining functions, especially the use of indentation and parameters.\n",
    "- Copilot follow-up suggestions: Creating functions with parameters to customise outputs.\n",
    "\n",
    "---\n",
    "\n",
    "## 3. Loops\n",
    "\n",
    "### Prompt:\n",
    "Could you suggest a modification of the Python code for “Hello, world!” to demonstrate the concept of loops to a complete beginner in programming? Please explain the code step-by-step highlighting any key aspects.\n",
    "\n",
    "### Copilot Explanation:\n",
    "\n",
    "Step-by-Step Explanation:\n",
    "\n",
    "1) For Loop:\n",
    "- for i in range(5):\n",
    "- This line starts a for loop. A loop is a way to repeat a block of code multiple times.\n",
    "- The range(5) function generates a sequence of numbers from 0 to 4 (5 numbers in total).\n",
    "- The variable i takes on each value in the sequence, one at a time.\n",
    "\n",
    "2) Loop Code Block:\n",
    "\n",
    "- Inside the loop, we have:  print(\"Hello, world!\")\n",
    "- This code block is indented to show that it belongs to the loop.\n",
    "- The print function is called in each iteration of the loop, printing \"Hello, world!\" five times.\n",
    "\n",
    "Key Aspects:\n",
    "1) Loops: Loops are used to repeat a block of code multiple times. They help automate repetitive tasks.\n",
    "2) For Loop: The for loop iterates over a sequence of values. In this case, it iterates over the numbers generated by range(5).\n",
    "3) Range Function: The range function generates a sequence of numbers. range(5) generates the numbers 0, 1, 2, 3, and 4.\n",
    "4) Indentation: The code inside the loop must be indented to indicate that it belongs to the loop.\n",
    "5) Iteration: Each time the loop runs, it's called an iteration. In each iteration, the value of i changes to the next number in the sequence.\n",
    "\n",
    "### Code:\n"
   ]
  },
  {
   "cell_type": "code",
   "execution_count": 199,
   "id": "d9adfedd",
   "metadata": {},
   "outputs": [
    {
     "name": "stdout",
     "output_type": "stream",
     "text": [
      "Hello, World!\n",
      "Hello, World!\n",
      "Hello, World!\n",
      "Hello, World!\n",
      "Hello, World!\n"
     ]
    }
   ],
   "source": [
    "\n",
    "for i in range(5):\n",
    "    print(\"Hello, World!\")\n"
   ]
  },
  {
   "cell_type": "markdown",
   "id": "29d319ef",
   "metadata": {},
   "source": [
    "### Reflection:\n",
    "What I learned: Loops facilitate the automation of repetitive tasks, significantly reducing code duplication.\n",
    "- Challenges I faced: Grasping the control flow of loops and preventing infinite loops.\n",
    "- Copilot follow-up suggestions: Implementing nested loops and exploring loop control statements like 'break' and 'continue.'\n",
    "\n",
    "\n",
    "---\n",
    "\n",
    "## 4. Lists\n",
    "\n",
    "### Prompt:\n",
    "Could you suggest a modification of the Python code for “Hello, world!” to demonstrate the concept of lists to a complete beginner in programming? Please explain the code step-by-step highlighting any key aspects.\n",
    "\n",
    "### Copilot Explanation:\n",
    "\n",
    "Step-by-Step Explanation:\n",
    "\n",
    "1) List Declaration:\n",
    "- messages = [\"Hello, world!\", \"Hello, Python!\", \"Hello, programming!\"]\n",
    "- Here, messages is a list. A list is a collection of items stored in a single variable.\n",
    "- The items in the list are strings: \"Hello, world!\", \"Hello, Python!\", and \"Hello, programming!\".\n",
    "- Lists are defined using square brackets [], and items are separated by commas.\n",
    "\n",
    "2)For Loop:\n",
    "- for message in messages:\n",
    "- This line starts a for loop that iterates over each item in the messages list.\n",
    "- The variable message takes on each value in the list, one at a time.\n",
    "\n",
    "2) Loop Code Block:\n",
    "- Inside the loop, we have:\n",
    "- print(message)\n",
    "- This code block is indented to show that it belongs to the loop.\n",
    "- The print function is called in each iteration of the loop, printing each message in the messages list.\n",
    "\n",
    "Key Aspects:\n",
    "1) Lists: Lists are used to store multiple items in a single variable. They are versatile and can hold different types of data.\n",
    "2) List Syntax: Lists are defined using square brackets [], and items are separated by commas.\n",
    "3) For Loop with Lists: The for loop can be used to iterate over each item in a list, making it easy to perform actions on each item.\n",
    "4) Iteration: Each time the loop runs, it's called an iteration. In each iteration, the value of message changes to the next item in the list.\n",
    "\n",
    "### Code:"
   ]
  },
  {
   "cell_type": "code",
   "execution_count": 200,
   "id": "6610aef9",
   "metadata": {},
   "outputs": [
    {
     "name": "stdout",
     "output_type": "stream",
     "text": [
      "Hello, World!\n",
      "Hi there!\n",
      "Greetings!\n",
      "Salutations!\n",
      "Howdy!\n"
     ]
    }
   ],
   "source": [
    "\n",
    "messages = [\"Hello, World!\", \"Hi there!\", \"Greetings!\", \"Salutations!\", \"Howdy!\"]\n",
    "\n",
    "for messages in messages:\n",
    "    print(messages)\n",
    "\n"
   ]
  },
  {
   "cell_type": "markdown",
   "id": "a905a496",
   "metadata": {},
   "source": [
    "### Reflection:\n",
    "- What I learned: Lists enable the storage of multiple values in a single variable, supporting dynamic data management.\n",
    "- Challenges I faced: Accessing elements accurately using zero-based indexing.\n",
    "- Copilot follow-up suggestions: Experimenting with list methods such as append, remove, and sort.\n",
    "\n",
    "---\n",
    "\n",
    "## 5. Dictionaries\n",
    "\n",
    "### Prompt:\n",
    "Could you suggest a modification of the Python code for “Hello, world!” to demonstrate the concept of dictionaries to a complete beginner in programming? Please explain the code step-by-step highlighting any key aspects.\n",
    "\n",
    "\n",
    "### Copilot Explanation:\n",
    "\n",
    "Step-by-Step Explanation:\n",
    "\n",
    "1) Dictionary Declaration:\n",
    "- greetings = { \"English\": \"Hello, world!\", \"Spanish\": \"Hola, mundo!\", \"French\": \"Bonjour, monde!\" }\n",
    "- Here, greetings is a dictionary. A dictionary is a collection of key-value pairs.\n",
    "- Keys are unique identifiers (e.g., \"English\", \"Spanish\", \"French\"), and values are the corresponding data (e.g., \"Hello, world!\", \"Hola, mundo!\", \"Bonjour, monde!\").\n",
    "- Dictionaries are defined using curly braces {}, and key-value pairs are separated by commas.\n",
    "\n",
    "2) For Loop:\n",
    "- for language, greeting in greetings.items():\n",
    "- This line starts a for loop that iterates over each key-value pair in the greetings dictionary.\n",
    "- The items() method returns a view object that displays a list of dictionary's key-value tuple pairs.\n",
    "- The variables language and greeting take on each key and value in the dictionary, respectively.\n",
    "\n",
    "3) Loop Code Block:\n",
    "- Inside the loop, we have:\n",
    "- print(f\"In {language}, we say: {greeting}\")\n",
    "- This code block is indented to show that it belongs to the loop.\n",
    "- The print function uses an f-string to format the output, displaying the language and its corresponding greeting.\n",
    "\n",
    "Key Aspects:\n",
    "- Dictionaries: Dictionaries are used to store data in key-value pairs. They are useful for organizing related data.\n",
    "- Dictionary Syntax: Dictionaries are defined using curly braces {}, and key-value pairs are separated by commas. Keys and values are separated by colons :.\n",
    "- For Loop with Dictionaries: The for loop can be used to iterate over each key-value pair in a dictionary using the items() method.\n",
    "- F-Strings: F-strings are a way to format strings in Python, making it easy to include variables within strings.\n",
    "\n",
    "### Code:"
   ]
  },
  {
   "cell_type": "code",
   "execution_count": 201,
   "id": "aba4e3fc",
   "metadata": {},
   "outputs": [
    {
     "name": "stdout",
     "output_type": "stream",
     "text": [
      "In English, we say: Hello, world!\n",
      "In Spanish, we say: Hola, mundo!\n",
      "In French, we say: Bonjour, monde!\n"
     ]
    }
   ],
   "source": [
    "greetings = {\n",
    "    \"English\": \"Hello, world!\",\n",
    "    \"Spanish\": \"Hola, mundo!\",\n",
    "    \"French\": \"Bonjour, monde!\"\n",
    "}\n",
    "\n",
    "for language, greeting in greetings.items():\n",
    "    print(f\"In {language}, we say: {greeting}\")\n"
   ]
  },
  {
   "cell_type": "markdown",
   "id": "0061d9a7",
   "metadata": {},
   "source": [
    "### Reflection:\n",
    "- What I learned: Dictionaries offer a key-value mapping structure, which is effective for organizing data with descriptive identifiers.\n",
    "- Challenges I faced: Remembering to correctly use curly braces and differentiate between keys and values.\n",
    "- Copilot follow-up suggestions: Creating nested dictionaries to represent complex data structures.\n",
    "\n",
    "\n",
    "---\n",
    "\n",
    "## 6. Arrays\n",
    "\n",
    "### Prompt:\n",
    "Could you suggest a modification of the Python code for “Hello, world!” to demonstrate the concept of arrays to a complete beginner in programming? Please explain the code step-by-step highlighting any key aspects.\n",
    "\n",
    "### Copilot Explanation:\n",
    "\n",
    "Step-by-Step Explanation:\n",
    "\n",
    "1) Define an array (list) of greetings:\n",
    "- greetings = [\"Hello\", \"Hi\", \"Hey\", \"Hola\", \"Bonjour\"]\n",
    "- Array (List): In Python, an array is typically represented as a list. Here, greetings is a list containing different ways to say \"Hello\".\n",
    "- Elements: Each item in the list is called an element. Our list has five elements: \"Hello\", \"Hi\", \"Hey\", \"Hola\", and \"Bonjour\".\n",
    "\n",
    "2) Loop through each element in the array and print it:\n",
    "- For Loop: The for loop iterates over each element in the greetings list. The variable greeting takes on the value of each element one by one.\n",
    "- Print Statement: Inside the loop, we use the print function to display each greeting followed by \", world!\". The + operator is used to concatenate (join) the greeting with the string \", world!\".\n",
    "\n",
    "\n",
    "Key Aspects:\n",
    "1) Lists: Lists are a fundamental data structure in Python used to store collections of items. They are defined using square brackets [].\n",
    "2) Iteration: The for loop is a common way to iterate over elements in a list. It allows us to perform actions on each element.\n",
    "3) String Concatenation: The + operator is used to join strings together.\n",
    "\n",
    "\n",
    "### Code:"
   ]
  },
  {
   "cell_type": "code",
   "execution_count": 202,
   "id": "82782671",
   "metadata": {},
   "outputs": [
    {
     "name": "stdout",
     "output_type": "stream",
     "text": [
      "Hello, world!\n",
      "Hi, world!\n",
      "Hey, world!\n",
      "Hola, world!\n",
      "Bonjour, world!\n"
     ]
    }
   ],
   "source": [
    "# Step 1: Define an array (list) of greetings\n",
    "greetings = [\"Hello\", \"Hi\", \"Hey\", \"Hola\", \"Bonjour\"]\n",
    "\n",
    "# Step 2: Loop through each element in the array and print it\n",
    "for greeting in greetings:\n",
    "    print(greeting + \", world!\")\n",
    "\n",
    "\n"
   ]
  },
  {
   "cell_type": "markdown",
   "id": "e98e75ca",
   "metadata": {},
   "source": [
    "### Reflection:\n",
    "- What I learned: Arrays provide an efficient way to store sequences of data, particularly for numerical operations.\n",
    "- Challenges I faced: Differentiating between Python lists and arrays, and understanding when to use each.\n",
    "- Copilot follow-up suggestions: Applying array operations using libraries such as NumPy.\n",
    "\n",
    "---\n",
    "\n",
    "## 7. Importing Libraries\n",
    "\n",
    "### Prompt:\n",
    "Could you suggest a modification of the Python code for “Hello, world!” to demonstrate the concept of importing libraries to a complete beginner in programming? Please explain the code step-by-step highlighting any key aspects.\n",
    "\n",
    "### Copilot Explanation:\n",
    "\n",
    "Step-by-Step Explanation:\n",
    "\n",
    "1) Importing the Library:\n",
    "- import datetime\n",
    "- This line imports the datetime library, which provides classes for manipulating dates and times.\n",
    "\n",
    "2) Defining a Function:\n",
    "- def greet():\n",
    "- The def keyword is used to define a new function named greet.\n",
    "- The parentheses () indicate that this function does not take any arguments.\n",
    "- The colon : signifies the start of the function's code block.\n",
    "\n",
    "3) Getting the Current Date and Time:\n",
    "- current_time = datetime.datetime.now()\n",
    "- This line uses the datetime library to get the current date and time.\n",
    "- datetime.datetime.now() returns the current date and time as a datetime object.\n",
    "- The result is stored in the variable current_time.\n",
    "\n",
    "4) Creating the Message:\n",
    "- message = \"Hello, world!\"\n",
    "- This line assigns the string \"Hello, world!\" to the variable message.\n",
    "\n",
    "5) Printing the Message with Date and Time:\n",
    "- print(f\"{message} The current date and time is: {current_time}\")\n",
    "- This line uses an f-string to format the output, combining the message and current_time variables.\n",
    "- The print function displays the formatted message, including the current date and time.\n",
    "\n",
    "6)Calling the Function:\n",
    "- greet()\n",
    "- This line calls the greet function, which executes the code inside the function's code block.\n",
    "\n",
    "Key Aspects:\n",
    "- Importing Libraries: Libraries are collections of pre-written code that you can use to perform common tasks. The import statement is used to include a library in your program.\n",
    "- Datetime Library: The datetime library provides classes for working with dates and times. It is a built-in Python library.\n",
    "- Function Definition and Call: Functions help organize code into reusable blocks. The def keyword defines a function, and the function is called by its name followed by parentheses.\n",
    "- F-Strings: F-strings are a way to format strings in Python, making it easy to include variables within strings.\n",
    "\n",
    "### Code:"
   ]
  },
  {
   "cell_type": "code",
   "execution_count": 203,
   "id": "6d3d2edc",
   "metadata": {},
   "outputs": [
    {
     "name": "stdout",
     "output_type": "stream",
     "text": [
      "Hello, world! The current date and time is: 2025-04-13 21:45:41.916378\n"
     ]
    }
   ],
   "source": [
    "import datetime\n",
    "\n",
    "def greet():\n",
    "    current_time = datetime.datetime.now()\n",
    "    message = \"Hello, world!\"\n",
    "    print(f\"{message} The current date and time is: {current_time}\")\n",
    "\n",
    "greet()\n"
   ]
  },
  {
   "cell_type": "markdown",
   "id": "242782de",
   "metadata": {},
   "source": [
    "### Reflection:\n",
    "- What I learned: Importing libraries allows Python to access extended functionalities beyond its core capabilities.\n",
    "- Challenges I faced: Identifying appropriate libraries and understanding the import syntax.\n",
    "- Copilot follow-up suggestions: Exploring libraries like math and random for basic enhancements.\n",
    "\n",
    "\n",
    "---\n",
    "\n",
    "## 8. If, Elif, Else Statements\n",
    "\n",
    "### Prompt:\n",
    "Could you suggest a modification of the Python code for “Hello, world!” to demonstrate the concepts of if, elif, and else statements to a complete beginner in programming? Please explain the code step-by-step highlighting any key aspects.\n",
    "\n",
    "### Copilot Explanation:\n",
    "\n",
    "Step-by-Step Explanation:\n",
    "\n",
    "1) Variable Declaration:\n",
    "- message = \"Hello, world!\"\n",
    "- Here, message is a variable that holds the string \"Hello, world!\".\n",
    "\n",
    "2) If Statement:\n",
    "- if message == \"Hello, world!\":\n",
    "- The if statement checks if the condition message == \"Hello, world!\" is true.\n",
    "- If the condition is true, the code block inside the if statement is executed.\n",
    "- The condition uses the == operator to compare the value of message with the string \"Hello, world!\".\n",
    "\n",
    "3) Elif Statement:\n",
    "- elif message == \"Hello, Python!\":\n",
    "- The elif (short for \"else if\") statement checks another condition if the previous if condition was false.\n",
    "- If the condition message == \"Hello, Python!\" is true, the code block inside the elif statement is executed.\n",
    "\n",
    "4) Else Statement:\n",
    "- else:\n",
    "- The else statement is executed if none of the previous conditions (if or elif) are true.\n",
    "- The code block inside the else statement runs when all other conditions are false.\n",
    "\n",
    "5) Printing the Message:\n",
    "- Inside each conditional block, the print function is used to display the appropriate message based on the condition.\n",
    "\n",
    "Key Aspects:\n",
    "\n",
    "1) Conditional Statements: Conditional statements (if, elif, else) are used to execute different blocks of code based on certain conditions.\n",
    "2) If Statement: The if statement checks a condition and executes the code block if the condition is true.\n",
    "3) Elif Statement: The elif statement checks another condition if the previous if condition was false.\n",
    "4) Else Statement: The else statement executes a code block if none of the previous conditions are true.\n",
    "5) Comparison Operator ==: The == operator is used to compare two values for equality.\n",
    "\n",
    "### Code:"
   ]
  },
  {
   "cell_type": "code",
   "execution_count": 204,
   "id": "4c9d0710",
   "metadata": {},
   "outputs": [
    {
     "name": "stdout",
     "output_type": "stream",
     "text": [
      "The message is: Hello, world!\n"
     ]
    }
   ],
   "source": [
    "message = \"Hello, world!\"\n",
    "\n",
    "if message == \"Hello, world!\":\n",
    "    print(\"The message is: Hello, world!\")\n",
    "elif message == \"Hello, Python!\":\n",
    "    print(\"The message is: Hello, Python!\")\n",
    "else:\n",
    "    print(\"The message is something else.\")\n"
   ]
  },
  {
   "cell_type": "markdown",
   "id": "482ab118",
   "metadata": {},
   "source": [
    "### Reflection:\n",
    "- What I learned: Conditional statements enable decision-making capabilities within programs, enhancing their dynamic nature.\n",
    "- Challenges I faced: Structuring complex conditional logic effectively.\n",
    "- Copilot follow-up suggestions: Using logical operators to combine multiple conditions.\n",
    "\n",
    "---\n",
    "\n",
    "## 9. Operators\n",
    "\n",
    "### Prompt:\n",
    "Could you suggest a modification of the Python code for “Hello, world!” to demonstrate the concept of operators to a complete beginner in programming? Please explain the code step-by-step highlighting any key aspects. Include discussions about addition and multiplication between strings and numbers.\n",
    "\n",
    "### Copilot Explanation:\n",
    "\n",
    "Step-by-Step Explanation:\n",
    "\n",
    "1) Addition of Numbers:\n",
    "\n",
    "a = 5\n",
    "b = 3\n",
    "sum_result = a + b\n",
    "\n",
    "- Here, a and b are variables holding the numbers 5 and 3, respectively.\n",
    "- The + operator adds the values of a and b, and the result is stored in sum_result.\n",
    "- print(\"The sum of\", a, \"and\", b, \"is\", sum_result) prints the result.\n",
    "\n",
    "2) Multiplication of Numbers:\n",
    "- product_result = a * b\n",
    "- The * operator multiplies the values of a and b, and the result is stored in product_result.\n",
    "- print(\"The product of\", a, \"and\", b, \"is\", product_result) prints the result.\n",
    "\n",
    "3) Addition of Strings:\n",
    "- greeting = \"Hello\"\n",
    "- name = \"world\"\n",
    "- full_message = greeting + \", \" + name + \"!\"\n",
    "- Here, greeting and name are variables holding the strings \"Hello\" and \"world\", respectively.\n",
    "- The + operator concatenates (joins) the strings with additional characters (, and !) to form a complete message.\n",
    "- print(full_message) prints the concatenated message.\n",
    "\n",
    "4) Multiplication of Strings:\n",
    "- repeat_message = greeting * 3\n",
    "- The * operator repeats the string greeting three times.\n",
    "- print(repeat_message) prints the repeated string.\n",
    "\n",
    "Key Aspects:\n",
    "1) Operators: Operators are symbols that perform operations on variables and values. Common operators include + (addition) and * (multiplication).\n",
    "2) Addition of Numbers: The + operator adds two numbers.\n",
    "3) Multiplication of Numbers: The * operator multiplies two numbers.\n",
    "4) Addition of Strings: The + operator concatenates (joins) two strings.\n",
    "5) Multiplication of Strings: The * operator repeats a string a specified number of times.\n",
    "\n",
    "\n",
    "### Code:"
   ]
  },
  {
   "cell_type": "code",
   "execution_count": 205,
   "id": "f291352c",
   "metadata": {},
   "outputs": [
    {
     "name": "stdout",
     "output_type": "stream",
     "text": [
      "The sum of 5 and 3 is 8\n",
      "The product of 5 and 3 is 15\n",
      "Hello, world!\n",
      "HelloHelloHello\n"
     ]
    }
   ],
   "source": [
    "# Addition of numbers\n",
    "a = 5\n",
    "b = 3\n",
    "sum_result = a + b\n",
    "print(\"The sum of\", a, \"and\", b, \"is\", sum_result)\n",
    "\n",
    "# Multiplication of numbers\n",
    "product_result = a * b\n",
    "print(\"The product of\", a, \"and\", b, \"is\", product_result)\n",
    "\n",
    "# Addition of strings\n",
    "greeting = \"Hello\"\n",
    "name = \"world\"\n",
    "full_message = greeting + \", \" + name + \"!\"\n",
    "print(full_message)\n",
    "\n",
    "# Multiplication of strings\n",
    "repeat_message = greeting * 3\n",
    "print(repeat_message)\n"
   ]
  },
  {
   "cell_type": "markdown",
   "id": "0489d36b",
   "metadata": {},
   "source": [
    "### Reflection:\n",
    "- What I learned: Operators perform computations or operations on values, critical for building expressions.\n",
    "- Challenges I faced: Understanding how operators behave differently with strings and numbers.\n",
    "- Copilot follow-up suggestions: Experimenting with string multiplication and concatenation.\n",
    "\n",
    "---\n",
    "\n",
    "## 10. Classes, Objects, and Methods\n",
    "\n",
    "### Prompt:\n",
    "Could you suggest a modification of the Python code for “Hello, world!” to demonstrate the concept of classes, objects, and methods to a complete beginner in programming? Please explain the code step-by-step highlighting any key aspects.\n",
    "\n",
    "### Copilot Explanation:\n",
    "\n",
    "Step-by-Step Explanation:\n",
    "\n",
    "1) Defining a Class:\n",
    "- class Greeter:\n",
    "- The class keyword is used to define a new class named Greeter.\n",
    "- A class is a blueprint for creating objects. It defines a set of attributes and methods that the objects created from the class will have\n",
    "\n",
    "2) Initializer Method (__init__):\n",
    "- def __init__(self, message):\n",
    "- The __init__ method is a special method called a constructor. It is automatically called when an object of the class is created.\n",
    "- self.message = message\n",
    "- The self parameter refers to the instance of the class. It is used to access attributes and methods of the class.\n",
    "- The message parameter is passed to the constructor, and its value is assigned to the message attribute of the class\n",
    "\n",
    "3) Defining a Method:\n",
    "- def greet(self):\n",
    "- The greet method is a regular method defined within the class. It performs a specific task.\n",
    "- print(self.message)\n",
    "- This line prints the value of the message attribute.\n",
    "\n",
    "4) Creating an Object:\n",
    "- greeter = Greeter(\"Hello, world!\")\n",
    "- This line creates an object of the Greeter class. The Greeter class constructor (__init__) is called with the argument \"Hello, world!\".\n",
    "- The greeter object now has the message attribute set to \"Hello, world!\".\n",
    "\n",
    "5) Calling a Method:\n",
    "- greeter.greet()\n",
    "- This line calls the greet method on the greeter object. The method prints the value of the message attribute.\n",
    "\n",
    "\n",
    "Key Aspects:\n",
    "1) Classes: Classes are blueprints for creating objects. They define attributes and methods that the objects will have.\n",
    "2) Objects: Objects are instances of classes. They are created using the class constructor and can access the attributes and methods defined in the class.\n",
    "3) Methods: Methods are functions defined within a class. They perform specific tasks and can access the attributes of the class using the self parameter.\n",
    "4) Initializer Method (__init__): The __init__ method is a special method that initializes the attributes of the class when an object is created.\n",
    "\n",
    "\n",
    "### Code:"
   ]
  },
  {
   "cell_type": "code",
   "execution_count": 206,
   "id": "6614b8b8",
   "metadata": {},
   "outputs": [
    {
     "name": "stdout",
     "output_type": "stream",
     "text": [
      "Hello, world!\n"
     ]
    }
   ],
   "source": [
    "class Greeter:\n",
    "    def __init__(self, message):\n",
    "        self.message = message\n",
    "\n",
    "    def greet(self):\n",
    "        print(self.message)\n",
    "\n",
    "# Create an object of the Greeter class\n",
    "greeter = Greeter(\"Hello, world!\")\n",
    "\n",
    "# Call the greet method\n",
    "greeter.greet()\n"
   ]
  },
  {
   "cell_type": "markdown",
   "id": "e9d3e7d4",
   "metadata": {},
   "source": [
    "\n",
    "### Reflection:\n",
    "- What I learned: Classes encapsulate data and behavior, promoting object-oriented design in programming.\n",
    "- Challenges I faced: Understanding the relationship between classes and their instances (objects).\n",
    "- Copilot follow-up suggestions: Enhancing methods to accept parameters and return values.\n",
    "\n",
    "---\n",
    "\n",
    "## 11. Python Syntax and Style Guide\n",
    "\n",
    "### Prompt:\n",
    "Could you use the examples you have provided above to explain basic syntax of Python to a complete beginner in programming? Please explain step-by-step highlighting any key aspects. Please include well known references to Python styling guides.\n",
    "\n",
    "### Copilot Explanation:\n",
    "\n",
    "1) Printing to the Screen:"
   ]
  },
  {
   "cell_type": "code",
   "execution_count": 207,
   "id": "acf5fd59",
   "metadata": {},
   "outputs": [
    {
     "name": "stdout",
     "output_type": "stream",
     "text": [
      "Hello, world!\n"
     ]
    }
   ],
   "source": [
    "\n",
    "print(\"Hello, world!\")\n"
   ]
  },
  {
   "cell_type": "markdown",
   "id": "bc61dc34",
   "metadata": {},
   "source": [
    "Explanation:\n",
    "- Function: print is a built-in function used to display output.\n",
    "- Parentheses: () are used to enclose the arguments of the function.\n",
    "- String: \"Hello, world!\" is a sequence of characters enclosed in quotation marks.\n",
    "\n",
    "2. Variables:"
   ]
  },
  {
   "cell_type": "code",
   "execution_count": 208,
   "id": "a795edcf",
   "metadata": {},
   "outputs": [
    {
     "name": "stdout",
     "output_type": "stream",
     "text": [
      "Hello, world!\n"
     ]
    }
   ],
   "source": [
    "message = \"Hello, world!\"\n",
    "print(message)"
   ]
  },
  {
   "cell_type": "markdown",
   "id": "2347406a",
   "metadata": {},
   "source": [
    "Explanation:\n",
    "- Variable Declaration: message is a variable that stores the string \"Hello, world!\".\n",
    "- Assignment Operator: = assigns the value to the variable.\n",
    "Using Variables: print(message) displays the value stored in message.\n",
    "\n",
    "3. Functions:"
   ]
  },
  {
   "cell_type": "code",
   "execution_count": 209,
   "id": "c3055041",
   "metadata": {},
   "outputs": [
    {
     "name": "stdout",
     "output_type": "stream",
     "text": [
      "Hello, world!\n"
     ]
    }
   ],
   "source": [
    "def greet():\n",
    "    message = \"Hello, world!\"\n",
    "    print(message)\n",
    "\n",
    "greet()"
   ]
  },
  {
   "cell_type": "markdown",
   "id": "5edcacda",
   "metadata": {},
   "source": [
    "Explanation:\n",
    "- Defining a Function: def greet(): defines a function named greet.\n",
    "- Indentation: Code inside the function is indented.\n",
    "- Calling a Function: greet() calls the function to execute its code.\n",
    "\n",
    "4) Loops:"
   ]
  },
  {
   "cell_type": "code",
   "execution_count": 210,
   "id": "a550b276",
   "metadata": {},
   "outputs": [
    {
     "name": "stdout",
     "output_type": "stream",
     "text": [
      "Hello, world!\n",
      "Hello, world!\n",
      "Hello, world!\n",
      "Hello, world!\n",
      "Hello, world!\n"
     ]
    }
   ],
   "source": [
    "for i in range(5):\n",
    "    print(\"Hello, world!\")"
   ]
  },
  {
   "cell_type": "markdown",
   "id": "a8d79197",
   "metadata": {},
   "source": [
    "Explanation:\n",
    "- For Loop: for i in range(5): iterates over a sequence of numbers from 0 to 4.\n",
    "- Iteration: Each iteration prints \"Hello, world!\".\n",
    "\n",
    "5) Lists:"
   ]
  },
  {
   "cell_type": "code",
   "execution_count": 211,
   "id": "f1cbe1ac",
   "metadata": {},
   "outputs": [
    {
     "name": "stdout",
     "output_type": "stream",
     "text": [
      "Hello, world!\n",
      "Hello, Python!\n",
      "Hello, programming!\n"
     ]
    }
   ],
   "source": [
    "messages = [\"Hello, world!\", \"Hello, Python!\", \"Hello, programming!\"]\n",
    "for message in messages:\n",
    "    print(message)"
   ]
  },
  {
   "cell_type": "markdown",
   "id": "5cbfeb0c",
   "metadata": {},
   "source": [
    "Explanation:\n",
    "- List Declaration: messages is a list containing multiple strings.\n",
    "- For Loop with Lists: Iterates over each item in the list and prints it.\n",
    "\n",
    "6) Dictionaries:"
   ]
  },
  {
   "cell_type": "code",
   "execution_count": 212,
   "id": "889bd33b",
   "metadata": {},
   "outputs": [
    {
     "name": "stdout",
     "output_type": "stream",
     "text": [
      "In English, we say: Hello, world!\n",
      "In Spanish, we say: Hola, mundo!\n",
      "In French, we say: Bonjour, monde!\n"
     ]
    }
   ],
   "source": [
    "greetings = {\n",
    "    \"English\": \"Hello, world!\",\n",
    "    \"Spanish\": \"Hola, mundo!\",\n",
    "    \"French\": \"Bonjour, monde!\"\n",
    "}\n",
    "\n",
    "for language, greeting in greetings.items():\n",
    "    print(f\"In {language}, we say: {greeting}\")"
   ]
  },
  {
   "cell_type": "markdown",
   "id": "ae453f5d",
   "metadata": {},
   "source": [
    "Explanation:\n",
    "- Dictionary Declaration: greetings is a dictionary with key-value pairs.\n",
    "- For Loop with Dictionaries: Iterates over each key-value pair and prints them.\n",
    "\n",
    "\n",
    "7) Importing Libraries:"
   ]
  },
  {
   "cell_type": "code",
   "execution_count": 213,
   "id": "e2788e04",
   "metadata": {},
   "outputs": [
    {
     "name": "stdout",
     "output_type": "stream",
     "text": [
      "Hello, world! The current date and time is: 2025-04-13 21:45:42.032337\n"
     ]
    }
   ],
   "source": [
    "import datetime\n",
    "\n",
    "def greet():\n",
    "    current_time = datetime.datetime.now()\n",
    "    message = \"Hello, world!\"\n",
    "    print(f\"{message} The current date and time is: {current_time}\")\n",
    "\n",
    "greet()"
   ]
  },
  {
   "cell_type": "markdown",
   "id": "6a90afab",
   "metadata": {},
   "source": [
    "Explanation:\n",
    "- Importing Libraries: import datetime includes the datetime library.\n",
    "- Using Library Functions: datetime.datetime.now() gets the current date and time.\n",
    "\n",
    "\n",
    "8) Conditional Statements:"
   ]
  },
  {
   "cell_type": "code",
   "execution_count": 214,
   "id": "6a074a27",
   "metadata": {},
   "outputs": [
    {
     "name": "stdout",
     "output_type": "stream",
     "text": [
      "The message is: Hello, world!\n"
     ]
    }
   ],
   "source": [
    "message = \"Hello, world!\"\n",
    "\n",
    "if message == \"Hello, world!\":\n",
    "    print(\"The message is: Hello, world!\")\n",
    "elif message == \"Hello, Python!\":\n",
    "    print(\"The message is: Hello, Python!\")\n",
    "else:\n",
    "    print(\"The message is something else.\")"
   ]
  },
  {
   "cell_type": "markdown",
   "id": "44a447c2",
   "metadata": {},
   "source": [
    "Explanation:\n",
    "- If Statement: Checks if the condition is true and executes the code block.\n",
    "- Elif Statement: Checks another condition if the previous one is false.\n",
    "- Else Statement: Executes if none of the previous conditions are true.\n",
    "\n",
    "\n",
    "9) Operators:"
   ]
  },
  {
   "cell_type": "code",
   "execution_count": 215,
   "id": "835eb8ff",
   "metadata": {},
   "outputs": [
    {
     "name": "stdout",
     "output_type": "stream",
     "text": [
      "The sum of 5 and 3 is 8\n",
      "The product of 5 and 3 is 15\n",
      "Hello, world!\n",
      "HelloHelloHello\n"
     ]
    }
   ],
   "source": [
    "# Addition of numbers\n",
    "a = 5\n",
    "b = 3\n",
    "sum_result = a + b\n",
    "print(\"The sum of\", a, \"and\", b, \"is\", sum_result)\n",
    "\n",
    "# Multiplication of numbers\n",
    "product_result = a * b\n",
    "print(\"The product of\", a, \"and\", b, \"is\", product_result)\n",
    "\n",
    "# Addition of strings\n",
    "greeting = \"Hello\"\n",
    "name = \"world\"\n",
    "full_message = greeting + \", \" + name + \"!\"\n",
    "print(full_message)\n",
    "\n",
    "# Multiplication of strings\n",
    "repeat_message = greeting * 3\n",
    "print(repeat_message)"
   ]
  },
  {
   "cell_type": "markdown",
   "id": "bf026cf1",
   "metadata": {},
   "source": [
    "Explanation:\n",
    "- Addition and Multiplication of Numbers: + adds and * multiplies numbers.\n",
    "- Addition of Strings: + concatenates strings.\n",
    "- Multiplication of Strings: * repeats a string.\n",
    "\n",
    "10) Classes, Objects, and Methods:\n"
   ]
  },
  {
   "cell_type": "code",
   "execution_count": 216,
   "id": "e405a5eb",
   "metadata": {},
   "outputs": [
    {
     "name": "stdout",
     "output_type": "stream",
     "text": [
      "Hello, world!\n"
     ]
    }
   ],
   "source": [
    "class Greeter:\n",
    "    def __init__(self, message):\n",
    "        self.message = message\n",
    "\n",
    "    def greet(self):\n",
    "        print(self.message)\n",
    "\n",
    "greeter = Greeter(\"Hello, world!\")\n",
    "greeter.greet()\n"
   ]
  },
  {
   "cell_type": "markdown",
   "id": "41412f40",
   "metadata": {},
   "source": [
    "Explanation:\n",
    "- Defining a Class: class Greeter: defines a class named Greeter.\n",
    "- Initializer Method: __init__ initializes the attributes of the class.\n",
    "- Defining a Method: def greet(self): defines a method within the class.\n",
    "- Creating an Object: greeter = Greeter(\"Hello, world!\") creates an object of the class.\n",
    "- Calling a Method: greeter.greet() calls the method on the object.\n",
    "\n",
    "\n",
    "Python Styling Guides:\n",
    "- PEP 8: The most widely recognized Python styling guide, PEP 8, provides conventions for writing readable and consistent Python code1. (https://peps.python.org/pep-0008/)\n",
    "- The Hitchhiker's Guide to Python: Another valuable resource for Python code style and best practices2. (https://docs.python-guide.org/writing/style/)\n",
    "\n",
    "These examples cover the basic syntax and concepts in Python. Following these guidelines will help you write clean, readable, and efficient code. "
   ]
  },
  {
   "cell_type": "markdown",
   "id": "e4785302",
   "metadata": {},
   "source": [
    "### Reflection:\n",
    "- What I learned: Classes encapsulate data and behavior, promoting object-oriented design in programming.\n",
    "- Challenges I faced: Understanding the relationship between classes and their instances (objects).\n",
    "- Copilot follow-up suggestions: Enhancing methods to accept parameters,  return values and error handeling in Python.\n",
    "\n",
    "---\n",
    "\n",
    "## 12. Best Practices: Simplicity, Security, Inclusion\n",
    "\n",
    "### Prompt:\n",
    "Could you suggest three different Python implementations of the Hello World program to emphasise, respectively, principles of simplicity, security, and inclusion? Please explain step-by-step highlighting any key aspects.\n",
    "\n",
    "### Copilot Explanation:\n",
    "\n",
    "1) Simplicity:"
   ]
  },
  {
   "cell_type": "code",
   "execution_count": 217,
   "id": "a6ee7406",
   "metadata": {},
   "outputs": [
    {
     "name": "stdout",
     "output_type": "stream",
     "text": [
      "Hello, world!\n"
     ]
    }
   ],
   "source": [
    "print(\"Hello, world!\")"
   ]
  },
  {
   "cell_type": "markdown",
   "id": "0bb8bb7d",
   "metadata": {},
   "source": [
    "Explanation:\n",
    "- Function: print is a built-in function used to display output.\n",
    "- Parentheses: () are used to enclose the arguments of the function.\n",
    "- String: \"Hello, world!\" is a sequence of characters enclosed in quotation marks.\n",
    "\n",
    "Key Aspects:\n",
    "- Minimalism: This implementation is straightforward and easy to understand, making it ideal for beginners.\n",
    "- Readability: The code is concise and clear, adhering to the principle of simplicity.\n",
    "\n",
    "\n",
    "2. Security:"
   ]
  },
  {
   "cell_type": "code",
   "execution_count": 218,
   "id": "ecb2ceff",
   "metadata": {},
   "outputs": [
    {
     "name": "stdout",
     "output_type": "stream",
     "text": [
      "Hello, world!\n"
     ]
    }
   ],
   "source": [
    "import logging\n",
    "\n",
    "def secure_greet():\n",
    "    try:\n",
    "        message = \"Hello, world!\"\n",
    "        if isinstance(message, str):\n",
    "            print(message)\n",
    "        else:\n",
    "            raise ValueError(\"Invalid message type\")\n",
    "    except ValueError as e:\n",
    "        logging.error(e)\n",
    "\n",
    "secure_greet()"
   ]
  },
  {
   "cell_type": "markdown",
   "id": "210341d6",
   "metadata": {},
   "source": [
    "Explanation:\n",
    "- Importing Libraries: import logging includes the logging library for error handling.\n",
    "- Defining a Function: def secure_greet(): defines a function named secure_greet.\n",
    "- Try-Except Block: The try block contains code that might raise an exception, and the except block handles the exception.\n",
    "- Type Checking: if isinstance(message, str): checks if message is a string.\n",
    "- Error Handling: logging.error(e) logs any errors that occur.\n",
    "\n",
    "Key Aspects:\n",
    "- Error Handling: The code includes error handling to ensure that only valid data is processed.\n",
    "- Type Checking: The code checks the type of the variable to prevent unexpected behavior.\n",
    "- Logging: Errors are logged for debugging and monitoring purposes.\n",
    "\n",
    "\n",
    "3) Inclusion:"
   ]
  },
  {
   "cell_type": "code",
   "execution_count": 219,
   "id": "55f502a3",
   "metadata": {},
   "outputs": [
    {
     "name": "stdout",
     "output_type": "stream",
     "text": [
      "Hola, mundo!\n"
     ]
    }
   ],
   "source": [
    "def greet(language=\"English\"):\n",
    "    messages = {\n",
    "        \"English\": \"Hello, world!\",\n",
    "        \"Spanish\": \"Hola, mundo!\",\n",
    "        \"French\": \"Bonjour, monde!\",\n",
    "        \"German\": \"Hallo, Welt!\",\n",
    "        \"Japanese\": \"こんにちは、世界！\"\n",
    "    }\n",
    "    print(messages.get(language, \"Hello, world!\"))\n",
    "\n",
    "greet(\"Spanish\")"
   ]
  },
  {
   "cell_type": "markdown",
   "id": "f1e67bd1",
   "metadata": {},
   "source": [
    "Explanation:\n",
    "- Defining a Function: def greet(language=\"English\"): defines a function named greet with a default parameter language.\n",
    "- Dictionary: messages is a dictionary containing greetings in multiple languages.\n",
    "- Using the Dictionary: messages.get(language, \"Hello, world!\") retrieves the greeting based on the specified language, with a default value if the language is not found.\n",
    "- Calling the Function: greet(\"Spanish\") calls the function with the argument \"Spanish\".\n",
    "\n",
    "Key Aspects:\n",
    "- Multilingual Support: The code includes greetings in multiple languages, promoting inclusivity.\n",
    "- Default Parameter: The function has a default parameter to handle cases where no language is specified.\n",
    "- Flexibility: The code can easily be extended to include more languages.\n",
    "\n",
    "\n",
    "### Reflection:\n",
    "- What I learned: Adhering to best practices not only improves code quality but also ensures that programs are accessible and secure.\n",
    "- Challenges I faced: Understanding practical applications of these abstract principles.\n",
    "- Copilot follow-up suggestions: Writing comments to enhance clarity and using secure coding techniques.\n",
    "\n",
    "---\n",
    "\n",
    "# Final Reflection on Part 2\n",
    "\n",
    "### Summary:\n",
    "- What were the most useful concepts? Functions and loops stood out for their ability to structure and automate code efficiently.\n",
    "- Which concept did you find the most challenging? Classes and objects presented the greatest challenge due to their abstract nature.\n",
    "- How helpful was Copilot in your learning journey? Copilot was very helpful in providing immediate, contextualised explanations and examples.\n",
    "\n",
    "---"
   ]
  }
 ],
 "metadata": {
  "kernelspec": {
   "display_name": "Python 3",
   "language": "python",
   "name": "python3"
  },
  "language_info": {
   "codemirror_mode": {
    "name": "ipython",
    "version": 3
   },
   "file_extension": ".py",
   "mimetype": "text/x-python",
   "name": "python",
   "nbconvert_exporter": "python",
   "pygments_lexer": "ipython3",
   "version": "3.12.1"
  }
 },
 "nbformat": 4,
 "nbformat_minor": 5
}
